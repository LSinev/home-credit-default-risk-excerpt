{
 "cells": [
  {
   "cell_type": "markdown",
   "metadata": {
    "_uuid": "ca25a2f95f0fc9498b9b2e3a9d96607fbb682015"
   },
   "source": [
    "# Home Credit Default Risk 2018 (neptune data repack)"
   ]
  },
  {
   "cell_type": "markdown",
   "metadata": {},
   "source": [
    "data from http://dropmefiles.com/HMuFX"
   ]
  },
  {
   "cell_type": "code",
   "execution_count": 1,
   "metadata": {
    "_uuid": "cc4088625ae2209899d05c70dfd7bcb108cb4c3a"
   },
   "outputs": [],
   "source": [
    "import numpy as np\n",
    "import pandas as pd\n",
    "import matplotlib.pyplot as plt\n",
    "import gc\n",
    "import time\n",
    "import warnings\n",
    "warnings.simplefilter(action = 'ignore', category = FutureWarning)\n",
    "try:\n",
    "    import cPickle as pickle\n",
    "except:\n",
    "    import pickle\n"
   ]
  },
  {
   "cell_type": "code",
   "execution_count": 2,
   "metadata": {},
   "outputs": [],
   "source": [
    "RANDOM_STATE = 2042\n",
    "np.random.seed(RANDOM_STATE)"
   ]
  },
  {
   "cell_type": "code",
   "execution_count": 3,
   "metadata": {},
   "outputs": [],
   "source": [
    "file_path = '../input/'"
   ]
  },
  {
   "cell_type": "code",
   "execution_count": 4,
   "metadata": {
    "_uuid": "be294207f4e12ccf54d922814789b27998577dca"
   },
   "outputs": [],
   "source": [
    "from sklearn.externals import joblib"
   ]
  },
  {
   "cell_type": "markdown",
   "metadata": {
    "_uuid": "3687d746e5fe89d3477cff12521e1402431c7ab1"
   },
   "source": [
    "### Service functions"
   ]
  },
  {
   "cell_type": "code",
   "execution_count": 5,
   "metadata": {
    "_uuid": "4b1d9d1291ce3da6dc089ec6c3918f485528caf0"
   },
   "outputs": [],
   "source": [
    "def convert_col_to_proper_int(df_col):\n",
    "    col_type = df_col.dtype\n",
    "#     print('convert_col_to_proper_int column: ', df_col.name, 'type: ', col_type, 'c_min: ', c_min)\n",
    "    if ((str(col_type)[:3] == 'int') | (str(col_type)[:4] == 'uint')): # | (str(col_type)[:5] == 'float')\n",
    "        c_min = df_col.min()\n",
    "        c_max = df_col.max()\n",
    "        if c_min < 0:\n",
    "#             print('c_min: ', c_min, 'less 0')\n",
    "            if c_min >= np.iinfo(np.int8).min and c_max <= np.iinfo(np.int8).max:\n",
    "                df_col = df_col.astype(np.int8)\n",
    "            elif c_min >= np.iinfo(np.int16).min and c_max <= np.iinfo(np.int16).max:\n",
    "                df_col = df_col.astype(np.int16)\n",
    "            elif c_min >= np.iinfo(np.int32).min and c_max <= np.iinfo(np.int32).max:\n",
    "                df_col = df_col.astype(np.int32)\n",
    "            elif c_min >= np.iinfo(np.int64).min and c_max <= np.iinfo(np.int64).max:\n",
    "                df_col = df_col.astype(np.int64)\n",
    "        else:\n",
    "#             print('c_min: ', c_min, 'not less 0')\n",
    "            if c_max <= np.iinfo(np.uint8).max:\n",
    "                df_col = df_col.astype(np.uint8)\n",
    "            elif c_max <= np.iinfo(np.uint16).max:\n",
    "                df_col = df_col.astype(np.uint16)\n",
    "            elif c_max <= np.iinfo(np.uint32).max:\n",
    "                df_col = df_col.astype(np.uint32)\n",
    "            elif c_max <= np.iinfo(np.uint64).max:\n",
    "                df_col = df_col.astype(np.uint64)\n",
    "            \n",
    "    return df_col\n",
    "\n",
    "def convert_col_to_proper_float(df_col):\n",
    "    col_type = df_col.dtype\n",
    "    if str(col_type)[:5] == 'float':\n",
    "        unique_count = len(np.unique(df_col))\n",
    "        df_col_temp = df_col.astype(np.float32)\n",
    "        if len(np.unique(df_col_temp)) == unique_count:\n",
    "            df_col = df_col_temp\n",
    "            c_min = df_col.min()\n",
    "            c_max = df_col.max()\n",
    "            if c_min > np.finfo(np.float16).min and c_max < np.finfo(np.float16).max:\n",
    "                df_col_temp = df_col.astype(np.float16)\n",
    "                if len(np.unique(df_col_temp)) == unique_count:\n",
    "                    df_col = df_col_temp\n",
    "            \n",
    "    return df_col\n",
    "\n",
    "\n",
    "\n",
    "def float_to_int(df):\n",
    "    \"\"\" iterate through all float columns of a dataframe and modify the data type\n",
    "        to reduce memory usage.\n",
    "    \"\"\"\n",
    "#     print('Begin float_to_int')\n",
    "    for col in df.columns:\n",
    "        col_type = df[col].dtype\n",
    "#         print('column: ', col, 'type: ', col_type)\n",
    "        if str(col_type)[:5] == 'float':\n",
    "            if (df[col] % 1 == 0).all():\n",
    "                df[col] = convert_col_to_proper_int(df[col].astype(np.int64))\n",
    "    \n",
    "    return df\n",
    "\n",
    "def float_reduced(df):\n",
    "    \"\"\" iterate through all float columns of a dataframe and modify the data type\n",
    "        to reduce memory usage.\n",
    "    \"\"\"\n",
    "#     print('Begin float_reduced')\n",
    "    for col in df.columns:\n",
    "        col_type = df[col].dtype\n",
    "#         print('column: ', col, 'type: ', col_type)\n",
    "        if str(col_type)[:5] == 'float':\n",
    "            df[col] = convert_col_to_proper_float(df[col])\n",
    "    \n",
    "    return df\n",
    "\n",
    "def int_reduced(df):\n",
    "    \"\"\" iterate through all int columns of a dataframe and modify the data type\n",
    "        to reduce memory usage.\n",
    "    \"\"\"\n",
    "#     print('Begin float_reduced')\n",
    "    for col in df.columns:\n",
    "        df[col] = convert_col_to_proper_int(df[col])\n",
    "    \n",
    "    return df\n",
    "\n",
    "## Thanks You Guillaume Martin for the Awesome Memory Optimizer!\n",
    "## https://www.kaggle.com/gemartin/load-data-reduce-memory-usage\n",
    "def reduce_mem_usage(data, verbose = True):\n",
    "    \"\"\" iterate through all the columns of a dataframe and modify the data type\n",
    "        to reduce memory usage.\n",
    "    \"\"\"\n",
    "    start_mem = data.memory_usage().sum() / 1024**2\n",
    "    if verbose:\n",
    "        print('Memory usage of dataframe: {:.2f} MB'.format(start_mem))\n",
    "\n",
    "    for col in data.columns:\n",
    "#         print(col, type(data[col]), data[col].shape)\n",
    "        col_type = data[col].dtype\n",
    "\n",
    "        if ((col_type != object) & (col_type != '<M8[ns]') & (col_type.name != 'category')):#\n",
    "            c_min = data[col].min()\n",
    "            c_max = data[col].max()\n",
    "            if str(col_type)[:3] == 'int':\n",
    "                data[col] = convert_col_to_proper_int(data[col])\n",
    "            else:\n",
    "                if c_min > np.finfo(np.float16).min and c_max < np.finfo(np.float16).max:\n",
    "                    data[col] = data[col].astype(np.float16)\n",
    "                elif c_min > np.finfo(np.float32).min and c_max < np.finfo(np.float32).max:\n",
    "                    data[col] = data[col].astype(np.float32)\n",
    "                else:\n",
    "                    data[col] = data[col].astype(np.float64)\n",
    "        else: data[col] = data[col].astype('category')\n",
    "\n",
    "    end_mem = data.memory_usage().sum() / 1024**2\n",
    "    if verbose:\n",
    "        print('Memory usage after optimization: {:.2f} MB'.format(end_mem))\n",
    "        print('Decreased by {:.1f}%'.format(100 * (start_mem - end_mem) / start_mem))\n",
    "\n",
    "    return data\n",
    "\n",
    "def gentle_reduce_mem_usage(data, verbose = True):\n",
    "    \"\"\" iterate through all the columns of a dataframe and modify the data type\n",
    "        to reduce memory usage.\n",
    "    \"\"\"\n",
    "    start_mem = data.memory_usage().sum() / 1024**2\n",
    "    if verbose:\n",
    "        print('Memory usage of dataframe: {:.2f} MB'.format(start_mem))\n",
    "\n",
    "    for col in data.columns:\n",
    "#         print(col, type(data[col]), data[col].shape)\n",
    "        col_type = data[col].dtype\n",
    "\n",
    "        if ((col_type != object) & (col_type != '<M8[ns]') & (col_type.name != 'category')):#\n",
    "            c_min = data[col].min()\n",
    "            c_max = data[col].max()\n",
    "            if str(col_type)[:3] == 'int':\n",
    "                data[col] = convert_col_to_proper_int(data[col])\n",
    "            else:\n",
    "                if (data[col] % 1 == 0).all():\n",
    "                    data[col] = convert_col_to_proper_int(data[col].astype(np.int64))\n",
    "                else:\n",
    "                    data[col] = convert_col_to_proper_float(data[col])\n",
    "        else: data[col] = data[col].astype('category')\n",
    "\n",
    "    end_mem = data.memory_usage().sum() / 1024**2\n",
    "    if verbose:\n",
    "        print('Memory usage after optimization: {:.2f} MB'.format(end_mem))\n",
    "        print('Decreased by {:.1f}%'.format(100 * (start_mem - end_mem) / start_mem))\n",
    "\n",
    "    return data"
   ]
  },
  {
   "cell_type": "markdown",
   "metadata": {},
   "source": [
    "### Load data"
   ]
  },
  {
   "cell_type": "code",
   "execution_count": 6,
   "metadata": {
    "scrolled": false
   },
   "outputs": [
    {
     "name": "stdout",
     "output_type": "stream",
     "text": [
      "<class 'pandas.core.frame.DataFrame'>\n",
      "RangeIndex: 48744 entries, 0 to 48743\n",
      "Columns: 1174 entries, annuity_income_percentage to nan_count\n",
      "dtypes: float32(1173), int64(1)\n",
      "memory usage: 218.5 MB\n"
     ]
    }
   ],
   "source": [
    "test_df =  joblib.load('../input/neptune/test/feature_joiner')\n",
    "test_df['features'].info()"
   ]
  },
  {
   "cell_type": "code",
   "execution_count": 7,
   "metadata": {},
   "outputs": [
    {
     "name": "stdout",
     "output_type": "stream",
     "text": [
      "Wall time: 1min 31s\n"
     ]
    }
   ],
   "source": [
    "%%time\n",
    "train = pd.read_csv('../input/neptune/train.csv', index_col=0)\n",
    "train_y = pd.read_csv('../input/neptune/train_y.csv', index_col=0)\n",
    "valid = pd.read_csv('../input/neptune/valid.csv', index_col=0)\n",
    "valid_y = pd.read_csv('../input/neptune/valid_y.csv', index_col=0)"
   ]
  },
  {
   "cell_type": "markdown",
   "metadata": {},
   "source": [
    "### Process data"
   ]
  },
  {
   "cell_type": "code",
   "execution_count": 36,
   "metadata": {},
   "outputs": [
    {
     "name": "stdout",
     "output_type": "stream",
     "text": [
      "<class 'pandas.core.frame.DataFrame'>\n",
      "RangeIndex: 307511 entries, 0 to 307510\n",
      "Columns: 1175 entries, annuity_income_percentage to TARGET\n",
      "dtypes: float64(1173), int64(2)\n",
      "memory usage: 2.7 GB\n",
      "Wall time: 4.36 s\n"
     ]
    }
   ],
   "source": [
    "%%time\n",
    "train_df = pd.concat([pd.concat([train, train_y], axis=1, verify_integrity=True),\n",
    "                      pd.concat([valid, valid_y], axis=1, verify_integrity=True)], ignore_index=True,\n",
    "                     axis=0, verify_integrity=True)\n",
    "train_df.info()\n"
   ]
  },
  {
   "cell_type": "code",
   "execution_count": 37,
   "metadata": {},
   "outputs": [
    {
     "name": "stdout",
     "output_type": "stream",
     "text": [
      "<class 'pandas.core.frame.DataFrame'>\n",
      "RangeIndex: 356255 entries, 0 to 356254\n",
      "Columns: 1175 entries, 100_period_trend_installment_paid_late_in_days to young_age\n",
      "dtypes: float64(1174), int64(1)\n",
      "memory usage: 3.1 GB\n",
      "Wall time: 29 s\n"
     ]
    }
   ],
   "source": [
    "%%time\n",
    "neptune_dataset = pd.concat([train_df, test_df['features']], ignore_index=True, axis=0, verify_integrity=True)\n",
    "neptune_dataset.info()"
   ]
  },
  {
   "cell_type": "code",
   "execution_count": 39,
   "metadata": {
    "scrolled": true
   },
   "outputs": [
    {
     "name": "stdout",
     "output_type": "stream",
     "text": [
      "Memory usage of dataframe: 3193.66 MB\n"
     ]
    },
    {
     "name": "stderr",
     "output_type": "stream",
     "text": [
      "C:\\Anaconda3\\lib\\site-packages\\ipykernel_launcher.py:39: RuntimeWarning: invalid value encountered in less\n"
     ]
    },
    {
     "name": "stdout",
     "output_type": "stream",
     "text": [
      "Memory usage after optimization: 2318.46 MB\n",
      "Decreased by 27.4%\n",
      "<class 'pandas.core.frame.DataFrame'>\n",
      "RangeIndex: 356255 entries, 0 to 356254\n",
      "Columns: 1175 entries, 100_period_trend_installment_paid_late_in_days to young_age\n",
      "dtypes: float16(206), float32(257), float64(667), int16(2), uint16(1), uint8(42)\n",
      "memory usage: 2.3 GB\n",
      "Wall time: 13min 49s\n"
     ]
    }
   ],
   "source": [
    "%%time\n",
    "neptune_dataset = gentle_reduce_mem_usage(neptune_dataset)\n",
    "neptune_dataset.info()"
   ]
  },
  {
   "cell_type": "markdown",
   "metadata": {},
   "source": [
    "### Output data"
   ]
  },
  {
   "cell_type": "code",
   "execution_count": 40,
   "metadata": {},
   "outputs": [],
   "source": [
    "neptune_dataset.to_pickle('neptune_dataset.pkl.zip')"
   ]
  },
  {
   "cell_type": "markdown",
   "metadata": {
    "_uuid": "7394bcdf79fc237f81aa13636f39783e42d84a41"
   },
   "source": [
    "Now it can be used in a script like https://www.kaggle.com/aantonova/797-lgbm-and-bayesian-optimization"
   ]
  },
  {
   "cell_type": "code",
   "execution_count": null,
   "metadata": {},
   "outputs": [],
   "source": []
  }
 ],
 "metadata": {
  "kernelspec": {
   "display_name": "Python 3",
   "language": "python",
   "name": "python3"
  },
  "language_info": {
   "codemirror_mode": {
    "name": "ipython",
    "version": 3
   },
   "file_extension": ".py",
   "mimetype": "text/x-python",
   "name": "python",
   "nbconvert_exporter": "python",
   "pygments_lexer": "ipython3",
   "version": "3.6.6"
  }
 },
 "nbformat": 4,
 "nbformat_minor": 1
}
